{
 "cells": [
  {
   "cell_type": "code",
   "execution_count": 2,
   "id": "f2326069-dbe9-4f5b-a554-ae0d3c60247b",
   "metadata": {},
   "outputs": [],
   "source": [
    "import pandas as pd\n",
    "from sklearn.cluster import AgglomerativeClustering\n",
    "from sklearn.preprocessing import StandardScaler\n",
    "\n",
    "csvFile = \"data/PosStats_MAP01938_0000_0E_01_region_001_labelled.csv\"\n",
    "df = pd.read_csv(csvFile)"
   ]
  },
  {
   "cell_type": "code",
   "execution_count": 3,
   "id": "9ac4c59e-a0d3-415a-8958-95a6f015337a",
   "metadata": {},
   "outputs": [],
   "source": [
    "all_columns = df.columns.to_list()\n",
    "filtered_columns = [\n",
    "        col\n",
    "        for col in all_columns\n",
    "        if col.startswith(\"Mean_\") or col.startswith(\"Median_\")\n",
    "    ]\n",
    "\n",
    "    # Save the other columns for later\n",
    "other_columns = df.drop(columns=filtered_columns)\n",
    "\n",
    "\n",
    "df[filtered_columns] = df[filtered_columns].fillna( df[filtered_columns].mean())\n"
   ]
  },
  {
   "cell_type": "code",
   "execution_count": 6,
   "id": "d203d57f-9b39-4672-b469-c49b9e149df2",
   "metadata": {},
   "outputs": [],
   "source": [
    " # Scale the filtered data\n",
    "scaler = StandardScaler()\n",
    "cluster_data = scaler.fit_transform(df[filtered_columns][:5000])\n"
   ]
  },
  {
   "cell_type": "code",
   "execution_count": 7,
   "id": "544202ee-57a5-4ca7-b744-938956b52159",
   "metadata": {},
   "outputs": [
    {
     "name": "stdout",
     "output_type": "stream",
     "text": [
      "917 ms ± 11.1 ms per loop (mean ± std. dev. of 7 runs, 1 loop each)\n"
     ]
    }
   ],
   "source": [
    "%%timeit\n",
    "n_clusters = 3\n",
    "\n",
    "# Perform clustering\n",
    "cluster = AgglomerativeClustering(\n",
    "    n_clusters=n_clusters, metric=\"euclidean\", linkage=\"ward\"\n",
    ")\n",
    "\n",
    "# cluster_datarows = df[filtered_columns].fillna( df[filtered_columns].mean())\n",
    "\n",
    "labels = cluster.fit_predict(cluster_data)\n"
   ]
  },
  {
   "cell_type": "code",
   "execution_count": null,
   "id": "67cb1406-0867-41f3-b09c-50b653db79e4",
   "metadata": {},
   "outputs": [],
   "source": []
  }
 ],
 "metadata": {
  "kernelspec": {
   "display_name": "Python 3 (ipykernel)",
   "language": "python",
   "name": "python3"
  },
  "language_info": {
   "codemirror_mode": {
    "name": "ipython",
    "version": 3
   },
   "file_extension": ".py",
   "mimetype": "text/x-python",
   "name": "python",
   "nbconvert_exporter": "python",
   "pygments_lexer": "ipython3",
   "version": "3.11.4"
  }
 },
 "nbformat": 4,
 "nbformat_minor": 5
}
